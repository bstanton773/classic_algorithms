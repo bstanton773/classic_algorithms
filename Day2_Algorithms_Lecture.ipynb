{
 "cells": [
  {
   "cell_type": "markdown",
   "metadata": {},
   "source": [
    "# Classic Algorithms"
   ]
  },
  {
   "cell_type": "markdown",
   "metadata": {},
   "source": [
    "## Tasks Today:\n",
    " \n",
    "1) <b>In-Place Algorithms</b> <br>\n",
    " &nbsp;&nbsp;&nbsp;&nbsp; a) Syntax <br>\n",
    " &nbsp;&nbsp;&nbsp;&nbsp; a) Out of Place Algorithm <br>\n",
    " &nbsp;&nbsp;&nbsp;&nbsp; b) In-Class Exercise #1 <br>\n",
    "2) <b>Two Pointers</b> <br>\n",
    "3) <b>Sorting Algorithms</b> <br>\n",
    "4) <b>Merge Sort</b> <br>\n",
    " &nbsp;&nbsp;&nbsp;&nbsp; a) Video on Algorithms <br>\n",
    " &nbsp;&nbsp;&nbsp;&nbsp; b) How it Works <br>\n",
    "5) <b>Exercises</b> <br>\n",
    " &nbsp;&nbsp;&nbsp;&nbsp; a) Exercise #1 - Reverse a List in Place Using an In-Place Algorithm <br>\n",
    " &nbsp;&nbsp;&nbsp;&nbsp; b) Exercise #2 - Find Distinct Words <br>\n",
    " &nbsp;&nbsp;&nbsp;&nbsp; c) Exercise #3 - Write a program to implement a Linear Search Algorithm. <br>"
   ]
  },
  {
   "cell_type": "markdown",
   "metadata": {},
   "source": [
    "## In-Place Algorithms"
   ]
  },
  {
   "cell_type": "markdown",
   "metadata": {},
   "source": [
    "#### Syntax"
   ]
  },
  {
   "cell_type": "code",
   "execution_count": 3,
   "metadata": {
    "scrolled": true
   },
   "outputs": [
    {
     "name": "stdout",
     "output_type": "stream",
     "text": [
      "1\n"
     ]
    }
   ],
   "source": [
    "c, a, b = 1, 2, 3\n",
    "\n",
    "print(c)"
   ]
  },
  {
   "cell_type": "code",
   "execution_count": 19,
   "metadata": {},
   "outputs": [
    {
     "name": "stdout",
     "output_type": "stream",
     "text": [
      "Before swap: [1, 5, 10]\n",
      "After swap: [10, 5, 1]\n"
     ]
    }
   ],
   "source": [
    "# var[i], var[j] = var[j], var[i]\n",
    "# Sometimes known as a swap algorithm\n",
    "\n",
    "def swap(alist, x, y, z):\n",
    "    alist[x], alist[y], alist[z] = alist[z], alist[y], alist[x]\n",
    "    return alist\n",
    "\n",
    "my_list = [1, 5, 10]\n",
    "print(f'Before swap: {my_list}')\n",
    "swap(my_list, 0,1,2)\n",
    "print(f'After swap: {my_list}')"
   ]
  },
  {
   "cell_type": "code",
   "execution_count": 14,
   "metadata": {},
   "outputs": [
    {
     "name": "stdout",
     "output_type": "stream",
     "text": [
      "[10, 5, 1]\n"
     ]
    }
   ],
   "source": [
    "my_list = [1,5,10]\n",
    "temp = my_list[0]\n",
    "my_list[0] = my_list[2]\n",
    "my_list[2] = temp\n",
    "print(my_list)"
   ]
  },
  {
   "cell_type": "markdown",
   "metadata": {},
   "source": [
    "#### Out of Place Algorithm"
   ]
  },
  {
   "cell_type": "code",
   "execution_count": 27,
   "metadata": {},
   "outputs": [
    {
     "name": "stdout",
     "output_type": "stream",
     "text": [
      "[10, 5, 1]\n",
      "[1, 5, 100]\n",
      "Before swap: ['a', 'b', 'c', 'd']\n",
      "After swap: ['d', 'c', 'b', 'a']\n"
     ]
    }
   ],
   "source": [
    "# Not swapping, but rather reversing completely\n",
    "# BUT also copies to another place in memory\n",
    "my_list_copy = my_list[::-1]\n",
    "my_list_copy[2] = 100\n",
    "print(my_list)\n",
    "print(my_list_copy)\n",
    "\n",
    "# Long form out of place...\n",
    "list_a = ['a', 'b', 'c', 'd']\n",
    "new_list = [''] * len(list_a)\n",
    "\n",
    "print(f'Before swap: {list_a}')\n",
    "\n",
    "length = len(list_a) - 1\n",
    "\n",
    "for i in range(len(list_a)):\n",
    "    new_list[i] = list_a[length-i]\n",
    "\n",
    "list_a = new_list\n",
    "print(f'After swap: {list_a}')"
   ]
  },
  {
   "cell_type": "markdown",
   "metadata": {},
   "source": [
    "#### In-Class Exercise #1 <br>\n",
    "<p>Write a function that takes in four arguments (list, index1, index2, index3), and swaps those three positions in the list passed in.</p>"
   ]
  },
  {
   "cell_type": "code",
   "execution_count": 30,
   "metadata": {},
   "outputs": [
    {
     "data": {
      "text/plain": [
       "[3, 10, 4, 8, 4, 2, 6]"
      ]
     },
     "execution_count": 30,
     "metadata": {},
     "output_type": "execute_result"
    }
   ],
   "source": [
    "l_1 = [10, 4, 3, 8, 4, 2, 6]\n",
    "\n",
    "def switch(lst, idx1, idx2, idx3):\n",
    "    lst[idx1], lst[idx2], lst[idx3] = lst[idx3], lst[idx1], lst[idx2]\n",
    "    return lst\n",
    "    \n",
    "switch(l_1, 0,1,2)\n"
   ]
  },
  {
   "cell_type": "markdown",
   "metadata": {},
   "source": [
    "## Two Pointers"
   ]
  },
  {
   "cell_type": "markdown",
   "metadata": {},
   "source": [
    "#### Syntax"
   ]
  },
  {
   "cell_type": "code",
   "execution_count": 42,
   "metadata": {},
   "outputs": [
    {
     "name": "stdout",
     "output_type": "stream",
     "text": [
      "Before swap: [1, 4, 8, 3, 9, 10, 33, 23, 74]\n",
      "[74, 4, 8, 3, 9, 10, 33, 23, 1]\n",
      "[74, 23, 8, 3, 9, 10, 33, 4, 1]\n",
      "[74, 23, 33, 3, 9, 10, 8, 4, 1]\n",
      "[74, 23, 33, 10, 9, 3, 8, 4, 1]\n",
      "[74, 23, 33, 10, 9, 3, 8, 4, 1]\n",
      "After swap: [74, 23, 33, 10, 9, 3, 8, 4, 1]\n"
     ]
    }
   ],
   "source": [
    "# alist[left], alist[right] = alist[right], alist[left]\n",
    "# Use two pointer to swap, can use a while loop in most cases\n",
    "\n",
    "def two_pointer_swap(alist):\n",
    "    # Create pointers based on alist\n",
    "    left = 0 # far left index\n",
    "    right = len(alist) - 1 # far right index\n",
    "#     print(alist)\n",
    "    while left < len(alist)/2:\n",
    "        alist[left], alist[right] = alist[right], alist[left]\n",
    "        print(alist)\n",
    "        left += 1\n",
    "        right -= 1\n",
    "    return alist\n",
    "\n",
    "my_test_list = [1, 4, 8, 3, 9, 10, 33, 23, 74]\n",
    "print(f'Before swap: {my_test_list}')\n",
    "two_pointer_swap(my_test_list)\n",
    "print(f'After swap: {my_test_list}')"
   ]
  },
  {
   "cell_type": "code",
   "execution_count": 41,
   "metadata": {},
   "outputs": [
    {
     "name": "stdout",
     "output_type": "stream",
     "text": [
      "Before swap: [74, 23, 33, 10, 9, 3, 8, 4, 1]\n",
      "After swap: [1, 4, 8, 3, 9, 10, 33, 23, 74]\n"
     ]
    }
   ],
   "source": [
    "def two_pointer_swap_for(alist):\n",
    "    for i in range(len(alist)//2):\n",
    "        alist[i], alist[len(alist)-1-i] = alist[len(alist)-1-i], alist[i]\n",
    "    return alist\n",
    "print(f'Before swap: {my_test_list}')\n",
    "two_pointer_swap_for(my_test_list)\n",
    "print(f'After swap: {my_test_list}')"
   ]
  },
  {
   "cell_type": "markdown",
   "metadata": {},
   "source": [
    "#### Video of Algorithms <br>\n",
    "<p>Watch the video about algorithms.</p>\n",
    "\n",
    "https://www.youtube.com/watch?v=Q9HjeFD62Uk\n",
    "\n",
    "https://www.youtube.com/watch?v=kPRA0W1kECg\n",
    "\n",
    "https://www.youtube.com/watch?v=ZZuD6iUe3Pc"
   ]
  },
  {
   "cell_type": "markdown",
   "metadata": {},
   "source": [
    "# Sorting Algorithms"
   ]
  },
  {
   "cell_type": "markdown",
   "metadata": {},
   "source": [
    "#### Bubble Sort\n",
    "\n",
    "Worst Case: O(n^2) Time - O(1) Space"
   ]
  },
  {
   "cell_type": "code",
   "execution_count": 47,
   "metadata": {},
   "outputs": [],
   "source": [
    "# Best case: O(n) - linear\n",
    "\n",
    "def swap(alist, a, b):\n",
    "    alist[a], alist[b] = alist[b], alist[a]\n",
    "    \n",
    "def bubble_sort(alist):\n",
    "    # assume the list is unsorted\n",
    "    is_sorted = False\n",
    "    # while the list is unsorted, continue loop\n",
    "    while not is_sorted:\n",
    "        # set is_sorted variable to True while we check if sorted\n",
    "        is_sorted = True \n",
    "        \n",
    "        # Loop through our list by the index\n",
    "        for idx in range(len(alist)-1):\n",
    "            # If element at idx is larger than element directy to the right\n",
    "            if alist[idx] > alist[idx+1]:\n",
    "                # Swap elements\n",
    "                swap(alist, idx, idx+1)\n",
    "                # set is_sorted to false so while loop will need to rerun\n",
    "                is_sorted = False\n",
    "    return alist"
   ]
  },
  {
   "cell_type": "code",
   "execution_count": 48,
   "metadata": {},
   "outputs": [
    {
     "data": {
      "text/plain": [
       "[1, 22, 34, 44, 55, 66, 88, 100]"
      ]
     },
     "execution_count": 48,
     "metadata": {},
     "output_type": "execute_result"
    }
   ],
   "source": [
    "bubble_sort([22,55,88,44,1,100,34,66])"
   ]
  },
  {
   "cell_type": "code",
   "execution_count": 50,
   "metadata": {},
   "outputs": [
    {
     "name": "stdout",
     "output_type": "stream",
     "text": [
      "[1, 22, 34, 44, 55, 66, 88, 100]\n"
     ]
    }
   ],
   "source": [
    "def bubbleSort(arr):\n",
    "    n = len(arr)\n",
    "    # Traverse through all array elements\n",
    "    for i in range(n-1):\n",
    "        # range(n) also work but outer loop will repeat one time more than needed.\n",
    "        # Last i elements are already in place\n",
    "        for j in range(0, n-i-1):\n",
    "            # traverse the array from 0 to n-i-1\n",
    "            # Swap if the element found is greater\n",
    "            # than the next element\n",
    "            if arr[j] > arr[j+1]:\n",
    "                arr[j], arr[j+1] = arr[j+1], arr[j]\n",
    "\n",
    "myList = [22,55,88,44,1,100,34,66]\n",
    "bubbleSort(myList)\n",
    "print(myList)"
   ]
  },
  {
   "cell_type": "markdown",
   "metadata": {},
   "source": [
    "##### Insertion Sort\n",
    "\n",
    "Worst Case: O(n^2) time - O(1)space"
   ]
  },
  {
   "cell_type": "code",
   "execution_count": 51,
   "metadata": {},
   "outputs": [
    {
     "data": {
      "text/plain": [
       "[11, 22, 33, 77, 88, 99]"
      ]
     },
     "execution_count": 51,
     "metadata": {},
     "output_type": "execute_result"
    }
   ],
   "source": [
    "def insertion_sort(alist):\n",
    "    for i in range(1, len(alist)):\n",
    "        j = i\n",
    "        while j > 0 and alist[j] < alist[j-1]:\n",
    "            alist[j], alist[j-1] = alist[j-1], alist[j]\n",
    "            j -= 1\n",
    "    return alist\n",
    "\n",
    "insertion_sort([77, 22, 33, 88, 99, 11])"
   ]
  },
  {
   "cell_type": "markdown",
   "metadata": {},
   "source": [
    "## Merge Sort"
   ]
  },
  {
   "cell_type": "markdown",
   "metadata": {},
   "source": [
    "#### How it Works"
   ]
  },
  {
   "cell_type": "code",
   "execution_count": 53,
   "metadata": {},
   "outputs": [],
   "source": [
    "# Step 1: Split everything into it's own group (left and right - down to len==1)\n",
    "# Step 2: From left to right, merge two groups together\n",
    "# Step 3: While merging, place each item in the correct position in merged group (compare low index of left v right)\n",
    "# Step 4: Continue step 3-4 until one group is left\n",
    "\n",
    "\n",
    "# write merge sort function\n",
    "def merge_sort(alist):\n",
    "    print(\"Splitting...\", alist)\n",
    "    # Step 1: divide array into equal parts \n",
    "    if len(alist) > 1:\n",
    "        mid = len(alist) // 2\n",
    "        lefthalf = alist[:mid]\n",
    "        righthalf = alist[mid:]\n",
    "        \n",
    "        # recursively call merge_sort to preform splits if needed\n",
    "        merge_sort(lefthalf)\n",
    "        merge_sort(righthalf)\n",
    "        # then merge once splits are done\n",
    "        \n",
    "        # index pointers for our list\n",
    "        a = 0 # pointer for left half\n",
    "        b = 0 # pointer for right half\n",
    "        k = 0 # pointer for main array\n",
    "        \n",
    "        # Step 2a: Compare the left half and right half and place smaller value in main array\n",
    "        while a < len(lefthalf) and b < len(righthalf):\n",
    "            if lefthalf[a] < righthalf[b]:\n",
    "                # Step 3\n",
    "                alist[k] = lefthalf[a]\n",
    "                a += 1\n",
    "            else:\n",
    "                # Step 3\n",
    "                alist[k] = righthalf[b]\n",
    "                b += 1\n",
    "            k += 1\n",
    "        # Step 2b: Once one side is done, add other side to main array\n",
    "        while a < len(lefthalf):\n",
    "            alist[k] = lefthalf[a]\n",
    "            a += 1\n",
    "            k += 1\n",
    "        while b < len(righthalf):\n",
    "            alist[k] = righthalf[b]\n",
    "            b += 1\n",
    "            k += 1\n",
    "        \n",
    "    print('Merging...', alist)\n",
    "    return alist\n"
   ]
  },
  {
   "cell_type": "code",
   "execution_count": 54,
   "metadata": {},
   "outputs": [
    {
     "name": "stdout",
     "output_type": "stream",
     "text": [
      "[10, 9, 6, 18, 8, 10, 1, 12, 20, 1]\n"
     ]
    }
   ],
   "source": [
    "from random import randint\n",
    "\n",
    "nums = [randint(0,20) for i in range(10)]\n",
    "print(nums)"
   ]
  },
  {
   "cell_type": "code",
   "execution_count": 55,
   "metadata": {},
   "outputs": [
    {
     "name": "stdout",
     "output_type": "stream",
     "text": [
      "Splitting... [10, 9, 6, 18, 8, 10, 1, 12, 20, 1]\n",
      "Splitting... [10, 9, 6, 18, 8]\n",
      "Splitting... [10, 9]\n",
      "Splitting... [10]\n",
      "Merging... [10]\n",
      "Splitting... [9]\n",
      "Merging... [9]\n",
      "Merging... [9, 10]\n",
      "Splitting... [6, 18, 8]\n",
      "Splitting... [6]\n",
      "Merging... [6]\n",
      "Splitting... [18, 8]\n",
      "Splitting... [18]\n",
      "Merging... [18]\n",
      "Splitting... [8]\n",
      "Merging... [8]\n",
      "Merging... [8, 18]\n",
      "Merging... [6, 8, 18]\n",
      "Merging... [6, 8, 9, 10, 18]\n",
      "Splitting... [10, 1, 12, 20, 1]\n",
      "Splitting... [10, 1]\n",
      "Splitting... [10]\n",
      "Merging... [10]\n",
      "Splitting... [1]\n",
      "Merging... [1]\n",
      "Merging... [1, 10]\n",
      "Splitting... [12, 20, 1]\n",
      "Splitting... [12]\n",
      "Merging... [12]\n",
      "Splitting... [20, 1]\n",
      "Splitting... [20]\n",
      "Merging... [20]\n",
      "Splitting... [1]\n",
      "Merging... [1]\n",
      "Merging... [1, 20]\n",
      "Merging... [1, 12, 20]\n",
      "Merging... [1, 1, 10, 12, 20]\n",
      "Merging... [1, 1, 6, 8, 9, 10, 10, 12, 18, 20]\n"
     ]
    },
    {
     "data": {
      "text/plain": [
       "[1, 1, 6, 8, 9, 10, 10, 12, 18, 20]"
      ]
     },
     "execution_count": 55,
     "metadata": {},
     "output_type": "execute_result"
    }
   ],
   "source": [
    "merge_sort(nums)"
   ]
  },
  {
   "cell_type": "markdown",
   "metadata": {},
   "source": [
    "# Binary Search\n",
    "\n",
    "The Binary Search algorithm works by finding the number in the middle of a given array and comparing it to the target. Given that the array is sorted\n",
    "\n",
    "* The worst case run time for this algorithm is `O(log(n))`"
   ]
  },
  {
   "cell_type": "code",
   "execution_count": 56,
   "metadata": {},
   "outputs": [
    {
     "data": {
      "text/plain": [
       "'The index for 88 is: 6'"
      ]
     },
     "execution_count": 56,
     "metadata": {},
     "output_type": "execute_result"
    }
   ],
   "source": [
    "def binary_search(alist, target):\n",
    "    low = 0\n",
    "    high = len(alist) - 1\n",
    "    while low <= high:\n",
    "        mid = (low + high) // 2\n",
    "        potential_match = alist[mid]\n",
    "        if target == potential_match:\n",
    "            return f'The index for {target} is: {mid}'\n",
    "        elif target < potential_match:\n",
    "            high = mid - 1\n",
    "        else:\n",
    "            low = mid + 1\n",
    "    return -1\n",
    "\n",
    "\n",
    "binary_search([22,33,44,55,66,77,88,99], 88)"
   ]
  },
  {
   "cell_type": "markdown",
   "metadata": {},
   "source": [
    "# Exercises"
   ]
  },
  {
   "cell_type": "markdown",
   "metadata": {},
   "source": [
    "### Exercise #1 <br>\n",
    "<p>Reverse the list below in-place using an in-place algorithm.<br>For extra credit: Reverse the strings at the same time.</p>"
   ]
  },
  {
   "cell_type": "code",
   "execution_count": null,
   "metadata": {},
   "outputs": [],
   "source": [
    "words = ['this' , 'is', 'a', 'sentence', '.']\n",
    "# OUTPUT = ['.', 'ecnetnes', 'taen', 'a', 'si', 'siht']\n"
   ]
  },
  {
   "cell_type": "markdown",
   "metadata": {},
   "source": [
    "### Exercise #2 <br>\n",
    "<p>Create a function that counts how many distinct words are in the string below, then outputs a dictionary with the words as the key and the value as the amount of times that word appears in the string.<br>Should output:<br>{'a': 5,<br>\n",
    " 'abstract': 1,<br>\n",
    " 'an': 3,<br>\n",
    " 'array': 2, ... etc...</p>"
   ]
  },
  {
   "cell_type": "code",
   "execution_count": null,
   "metadata": {},
   "outputs": [],
   "source": [
    "a_text = 'In computing, a hash table hash map is a data structure which implements an associative array abstract data type, a structure that can map keys to values. A hash table uses a hash function to compute an index into an array of buckets or slots from which the desired value can be found'\n",
    "\n"
   ]
  },
  {
   "cell_type": "markdown",
   "metadata": {},
   "source": [
    "## Exercise #3\n",
    "\n",
    "Write a program to implement a Linear Search Algorithm. Also in a comment, write the Time Complexity of the following algorithm.\n",
    "\n",
    "#### Hint: Linear Searching will require searching a list for a given number. "
   ]
  },
  {
   "cell_type": "code",
   "execution_count": null,
   "metadata": {},
   "outputs": [],
   "source": []
  }
 ],
 "metadata": {
  "kernelspec": {
   "display_name": "Python 3",
   "language": "python",
   "name": "python3"
  },
  "language_info": {
   "codemirror_mode": {
    "name": "ipython",
    "version": 3
   },
   "file_extension": ".py",
   "mimetype": "text/x-python",
   "name": "python",
   "nbconvert_exporter": "python",
   "pygments_lexer": "ipython3",
   "version": "3.8.5"
  }
 },
 "nbformat": 4,
 "nbformat_minor": 2
}
